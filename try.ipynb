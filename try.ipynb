{
 "cells": [
  {
   "cell_type": "markdown",
   "id": "28cc2d2d",
   "metadata": {},
   "source": [
    "## This is for trials (if what filter i selected is the right one)"
   ]
  },
  {
   "cell_type": "code",
   "execution_count": null,
   "id": "be2205ea",
   "metadata": {},
   "outputs": [],
   "source": [
    "import pandas as pd"
   ]
  },
  {
   "cell_type": "code",
   "execution_count": null,
   "id": "f0f81594",
   "metadata": {},
   "outputs": [],
   "source": [
    "df = pd.read_csv('adult.data.csv')"
   ]
  },
  {
   "cell_type": "code",
   "execution_count": null,
   "id": "bec8ba78",
   "metadata": {},
   "outputs": [],
   "source": [
    "b = df.loc[df['education'] == 'Bachelors'].shape[0]\n",
    "total_1 = df.shape[0]\n",
    "round((b / total_1) * 100, 1)"
   ]
  },
  {
   "cell_type": "code",
   "execution_count": null,
   "id": "90ef3d45",
   "metadata": {},
   "outputs": [],
   "source": [
    "total_2 = df.loc[df['education'].isin(['Bachelors', 'Masters', 'Doctorate'])].shape[0]\n",
    "total_2"
   ]
  },
  {
   "cell_type": "code",
   "execution_count": null,
   "id": "9889b9be",
   "metadata": {},
   "outputs": [],
   "source": [
    "higher_education = df.loc[(df['education'].isin(['Bachelors', 'Masters', 'Doctorate'])) & (df['salary'] == '>50K')].shape[0]\n",
    "higher_education"
   ]
  },
  {
   "cell_type": "code",
   "execution_count": null,
   "id": "6d31d336",
   "metadata": {},
   "outputs": [],
   "source": [
    "lower_education = df.loc[(~df['education'].isin(['Bachelors', 'Masters', 'Doctorate'])) & (df['salary'] == '>50K')].shape[0]\n",
    "lower_education"
   ]
  },
  {
   "cell_type": "code",
   "execution_count": null,
   "id": "e5838f1c",
   "metadata": {},
   "outputs": [],
   "source": [
    "min_work_hours = df['hours-per-week'].min().item()"
   ]
  },
  {
   "cell_type": "code",
   "execution_count": null,
   "id": "8078f386",
   "metadata": {},
   "outputs": [],
   "source": [
    "total_3 = df.loc[(df['hours-per-week'] == min_work_hours)].shape[0]"
   ]
  },
  {
   "cell_type": "code",
   "execution_count": null,
   "id": "fba84af9",
   "metadata": {},
   "outputs": [],
   "source": [
    "min = df.loc[(df['hours-per-week'] == min_work_hours) & (df['salary'] == '>50K')].shape[0]"
   ]
  },
  {
   "cell_type": "code",
   "execution_count": null,
   "id": "21c83549",
   "metadata": {},
   "outputs": [],
   "source": [
    "int((min / total_3) * 100)"
   ]
  },
  {
   "cell_type": "code",
   "execution_count": null,
   "id": "171fd89b",
   "metadata": {},
   "outputs": [],
   "source": [
    "# highest earning country\n",
    "rich_per_country = df.loc[df['salary'] == '>50K']['native-country'].value_counts()"
   ]
  },
  {
   "cell_type": "code",
   "execution_count": null,
   "id": "281fd802",
   "metadata": {},
   "outputs": [],
   "source": [
    "people_in_country = df['native-country'].value_counts()"
   ]
  },
  {
   "cell_type": "code",
   "execution_count": null,
   "id": "16cd5c59",
   "metadata": {},
   "outputs": [],
   "source": [
    "percentage = round(((rich_per_country / people_in_country) * 100).max(), 1)\n",
    "percentage"
   ]
  },
  {
   "cell_type": "code",
   "execution_count": null,
   "id": "a21baf42",
   "metadata": {},
   "outputs": [],
   "source": [
    "df.loc[(df['salary'] == '>50K') & (df['native-country'] == 'India')]['occupation'].value_counts()"
   ]
  }
 ],
 "metadata": {
  "kernelspec": {
   "display_name": "Python 3",
   "language": "python",
   "name": "python3"
  },
  "language_info": {
   "codemirror_mode": {
    "name": "ipython",
    "version": 3
   },
   "file_extension": ".py",
   "mimetype": "text/x-python",
   "name": "python",
   "nbconvert_exporter": "python",
   "pygments_lexer": "ipython3",
   "version": "3.13.5"
  }
 },
 "nbformat": 4,
 "nbformat_minor": 5
}
